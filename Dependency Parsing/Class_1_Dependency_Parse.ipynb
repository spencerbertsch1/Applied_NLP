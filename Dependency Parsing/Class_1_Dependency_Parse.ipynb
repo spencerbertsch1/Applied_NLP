{
  "nbformat": 4,
  "nbformat_minor": 0,
  "metadata": {
    "colab": {
      "name": "Class 1 Dependency Parse.ipynb",
      "version": "0.3.2",
      "provenance": [],
      "collapsed_sections": []
    },
    "kernelspec": {
      "name": "python3",
      "display_name": "Python 3"
    }
  },
  "cells": [
    {
      "cell_type": "code",
      "metadata": {
        "id": "8F2rq28NCvE8",
        "colab_type": "code",
        "colab": {}
      },
      "source": [
        "import spacy\n",
        "from spacy import displacy\n",
        "nlp = spacy.load('en')"
      ],
      "execution_count": 0,
      "outputs": []
    },
    {
      "cell_type": "markdown",
      "metadata": {
        "id": "OT60xN78t6Do",
        "colab_type": "text"
      },
      "source": [
        "# Print a dependency parse for a sentence "
      ]
    },
    {
      "cell_type": "markdown",
      "metadata": {
        "id": "FPGiuxrRt9vo",
        "colab_type": "text"
      },
      "source": [
        "This parse shows that the verb 'has' is the root. It has a subject 'Fold' and a direct object 'limitations'."
      ]
    },
    {
      "cell_type": "code",
      "metadata": {
        "id": "iPncUNR66SW_",
        "colab_type": "code",
        "outputId": "423f974d-e5d7-4a64-9132-9172fac2cd79",
        "colab": {
          "base_uri": "https://localhost:8080/",
          "height": 257
        }
      },
      "source": [
        "text = \"The pool was great.\"\n",
        "doc = nlp(text)\n",
        "displacy.render(doc, style='dep', jupyter=True, options={'distance': 200})"
      ],
      "execution_count": 0,
      "outputs": [
        {
          "output_type": "display_data",
          "data": {
            "text/html": [
              "<svg xmlns=\"http://www.w3.org/2000/svg\" xmlns:xlink=\"http://www.w3.org/1999/xlink\" id=\"887-0\" class=\"displacy\" width=\"850\" height=\"237.0\" style=\"max-width: none; height: 237.0px; color: #000000; background: #ffffff; font-family: Arial\">\n",
              "<text class=\"displacy-token\" fill=\"currentColor\" text-anchor=\"middle\" y=\"147.0\">\n",
              "    <tspan class=\"displacy-word\" fill=\"currentColor\" x=\"50\">The</tspan>\n",
              "    <tspan class=\"displacy-tag\" dy=\"2em\" fill=\"currentColor\" x=\"50\">DET</tspan>\n",
              "</text>\n",
              "\n",
              "<text class=\"displacy-token\" fill=\"currentColor\" text-anchor=\"middle\" y=\"147.0\">\n",
              "    <tspan class=\"displacy-word\" fill=\"currentColor\" x=\"250\">pool</tspan>\n",
              "    <tspan class=\"displacy-tag\" dy=\"2em\" fill=\"currentColor\" x=\"250\">NOUN</tspan>\n",
              "</text>\n",
              "\n",
              "<text class=\"displacy-token\" fill=\"currentColor\" text-anchor=\"middle\" y=\"147.0\">\n",
              "    <tspan class=\"displacy-word\" fill=\"currentColor\" x=\"450\">was</tspan>\n",
              "    <tspan class=\"displacy-tag\" dy=\"2em\" fill=\"currentColor\" x=\"450\">VERB</tspan>\n",
              "</text>\n",
              "\n",
              "<text class=\"displacy-token\" fill=\"currentColor\" text-anchor=\"middle\" y=\"147.0\">\n",
              "    <tspan class=\"displacy-word\" fill=\"currentColor\" x=\"650\">great.</tspan>\n",
              "    <tspan class=\"displacy-tag\" dy=\"2em\" fill=\"currentColor\" x=\"650\">ADJ</tspan>\n",
              "</text>\n",
              "\n",
              "<g class=\"displacy-arrow\">\n",
              "    <path class=\"displacy-arc\" id=\"arrow-887-0-0\" stroke-width=\"2px\" d=\"M70,102.0 C70,2.0 250.0,2.0 250.0,102.0\" fill=\"none\" stroke=\"currentColor\"/>\n",
              "    <text dy=\"1.25em\" style=\"font-size: 0.8em; letter-spacing: 1px\">\n",
              "        <textPath xlink:href=\"#arrow-887-0-0\" class=\"displacy-label\" startOffset=\"50%\" fill=\"currentColor\" text-anchor=\"middle\">det</textPath>\n",
              "    </text>\n",
              "    <path class=\"displacy-arrowhead\" d=\"M70,104.0 L62,92.0 78,92.0\" fill=\"currentColor\"/>\n",
              "</g>\n",
              "\n",
              "<g class=\"displacy-arrow\">\n",
              "    <path class=\"displacy-arc\" id=\"arrow-887-0-1\" stroke-width=\"2px\" d=\"M270,102.0 C270,2.0 450.0,2.0 450.0,102.0\" fill=\"none\" stroke=\"currentColor\"/>\n",
              "    <text dy=\"1.25em\" style=\"font-size: 0.8em; letter-spacing: 1px\">\n",
              "        <textPath xlink:href=\"#arrow-887-0-1\" class=\"displacy-label\" startOffset=\"50%\" fill=\"currentColor\" text-anchor=\"middle\">nsubj</textPath>\n",
              "    </text>\n",
              "    <path class=\"displacy-arrowhead\" d=\"M270,104.0 L262,92.0 278,92.0\" fill=\"currentColor\"/>\n",
              "</g>\n",
              "\n",
              "<g class=\"displacy-arrow\">\n",
              "    <path class=\"displacy-arc\" id=\"arrow-887-0-2\" stroke-width=\"2px\" d=\"M470,102.0 C470,2.0 650.0,2.0 650.0,102.0\" fill=\"none\" stroke=\"currentColor\"/>\n",
              "    <text dy=\"1.25em\" style=\"font-size: 0.8em; letter-spacing: 1px\">\n",
              "        <textPath xlink:href=\"#arrow-887-0-2\" class=\"displacy-label\" startOffset=\"50%\" fill=\"currentColor\" text-anchor=\"middle\">acomp</textPath>\n",
              "    </text>\n",
              "    <path class=\"displacy-arrowhead\" d=\"M650.0,104.0 L658.0,92.0 642.0,92.0\" fill=\"currentColor\"/>\n",
              "</g>\n",
              "</svg>"
            ],
            "text/plain": [
              "<IPython.core.display.HTML object>"
            ]
          },
          "metadata": {
            "tags": []
          }
        }
      ]
    },
    {
      "cell_type": "markdown",
      "metadata": {
        "id": "0KDm2hS7uICP",
        "colab_type": "text"
      },
      "source": [
        "Similarly, here we see the subject is 'phone', and the verb is 'was'. This verb is modified by the adjective 'inexpensive'. "
      ]
    },
    {
      "cell_type": "code",
      "metadata": {
        "id": "GtwcMwSIvWiN",
        "colab_type": "code",
        "colab": {}
      },
      "source": [
        "text = 'The phone was inexpensive.'\n",
        "doc = nlp(text)\n",
        "displacy.render(doc, style='dep', jupyter=True)"
      ],
      "execution_count": 0,
      "outputs": []
    },
    {
      "cell_type": "markdown",
      "metadata": {
        "id": "1kyyZ6Iauf3G",
        "colab_type": "text"
      },
      "source": [
        "We can programatically find the main verb of a sentence - i.e. the root of the dependency parse. Below the text includes just one sentence but it could include an arbitrary number of sentences."
      ]
    },
    {
      "cell_type": "code",
      "metadata": {
        "id": "FoNaHtsJsZZk",
        "colab_type": "code",
        "colab": {}
      },
      "source": [
        "text = 'The phone was inexpensive.'\n",
        "doc = nlp(text)\n",
        "\n",
        "all_sentences = doc.sents\n",
        "for sentence in all_sentences:\n",
        "  root_token = sentence.root\n",
        "  print('Sentence main verb is ',root_token)"
      ],
      "execution_count": 0,
      "outputs": []
    },
    {
      "cell_type": "markdown",
      "metadata": {
        "id": "ihr4JLqjux_U",
        "colab_type": "text"
      },
      "source": [
        "We repeat the above code, but with many sentences instead of one sentence."
      ]
    },
    {
      "cell_type": "code",
      "metadata": {
        "id": "GV7dUWnVu47V",
        "colab_type": "code",
        "colab": {}
      },
      "source": [
        "text = 'The phone was inexpensive. However, I liked it.'\n",
        "doc = nlp(text)\n",
        "\n",
        "all_sentences = doc.sents\n",
        "for sentence in all_sentences:\n",
        "  root_token = sentence.root\n",
        "  print('Sentence main verb:',root_token)\n",
        "\n"
      ],
      "execution_count": 0,
      "outputs": []
    }
  ]
}