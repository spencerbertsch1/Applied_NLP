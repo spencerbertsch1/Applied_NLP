{
  "nbformat": 4,
  "nbformat_minor": 0,
  "metadata": {
    "colab": {
      "name": "Class 2 NER.ipynb",
      "version": "0.3.2",
      "provenance": [],
      "collapsed_sections": []
    },
    "kernelspec": {
      "name": "python3",
      "display_name": "Python 3"
    }
  },
  "cells": [
    {
      "cell_type": "markdown",
      "metadata": {
        "id": "U5dB1QSQIVyA",
        "colab_type": "text"
      },
      "source": [
        "# Load all hotel reviews"
      ]
    },
    {
      "cell_type": "markdown",
      "metadata": {
        "id": "CsXEREvUIYfK",
        "colab_type": "text"
      },
      "source": [
        "As before, load teh hotel reviews file already stored in your Google Drive account."
      ]
    },
    {
      "cell_type": "code",
      "metadata": {
        "id": "a6F-s2jnIczJ",
        "colab_type": "code",
        "outputId": "0d113429-c7e6-42e5-d7e3-f2e77536263a",
        "colab": {
          "base_uri": "https://localhost:8080/",
          "height": 51
        }
      },
      "source": [
        "from google.colab import drive\n",
        "import os\n",
        "drive.mount(\"/content/gdrive\")\n",
        "\n",
        "import pandas as pd\n",
        "\n",
        "if os.path.isfile(\"/content/gdrive/My Drive/Data/new-york-city.csv\"):\n",
        "  with open('/content/gdrive/My Drive/Data/new-york-city.csv', 'r') as f:\n",
        "    reviews = pd.read_csv(f, sep=\"\\t\",  header=None, usecols=[0,1,2,3], quoting=3,\n",
        "                    names = [\"Hotel Name\", \"Date of Review\", \"Review Headline\", \"Review Text\"])\n",
        "    reviews[\"Review Headline\"] = reviews[\"Review Headline\"].str.lower() # convert all review headlines to lowercase\n",
        "    reviews[\"Review Text\"] = reviews[\"Review Text\"].str.lower() # convert all review text to lowercase\n",
        "    reviews[\"Review Headline\"] = reviews[\"Review Headline\"].dropna() # skip empty reviews\n",
        "    reviews[\"Review Text\"] = reviews[\"Review Text\"].dropna() # skip empty reviews\n",
        "\n",
        "    print(\"Reviews file read successfully\")\n",
        "else:\n",
        "  print(\"Data folder does not contain 'new-york-city.csv'\")"
      ],
      "execution_count": 0,
      "outputs": [
        {
          "output_type": "stream",
          "text": [
            "Drive already mounted at /content/gdrive; to attempt to forcibly remount, call drive.mount(\"/content/gdrive\", force_remount=True).\n",
            "Reviews file read successfully\n"
          ],
          "name": "stdout"
        }
      ]
    },
    {
      "cell_type": "markdown",
      "metadata": {
        "id": "Q9EhszRtIkqZ",
        "colab_type": "text"
      },
      "source": [
        "# Load the spacy NLP library"
      ]
    },
    {
      "cell_type": "markdown",
      "metadata": {
        "id": "BPG2zo3gIpPh",
        "colab_type": "text"
      },
      "source": [
        "This library will be used to perform Named Entity Recognition"
      ]
    },
    {
      "cell_type": "code",
      "metadata": {
        "id": "peXE7FybHmx2",
        "colab_type": "code",
        "colab": {}
      },
      "source": [
        "import spacy\n",
        "from spacy import displacy\n",
        "nlp = spacy.load('en')"
      ],
      "execution_count": 0,
      "outputs": []
    },
    {
      "cell_type": "markdown",
      "metadata": {
        "id": "bHPY8gFcM6Jc",
        "colab_type": "text"
      },
      "source": [
        "Now examine a particular review, specified by the first line of the code cell below. This code cell prints the entities found in teh review as well as teh type of entity. The different entity codes are listed here:https://spacy.io/api/annotation#named-entities\n",
        "For example, the code 'LOC' means a location. "
      ]
    },
    {
      "cell_type": "code",
      "metadata": {
        "id": "iSQaZx8RNAFT",
        "colab_type": "code",
        "outputId": "c22cea06-e7de-4ef4-b1fd-e59097645a31",
        "colab": {
          "base_uri": "https://localhost:8080/",
          "height": 190
        }
      },
      "source": [
        "review_number = 1 # change this number to any review number desired\n",
        "\n",
        "selected_review = reviews.iloc[review_number]\n",
        "selected_review_text = selected_review[\"Review Text\"]\n",
        "\n",
        "print(selected_review_text)\n",
        "print()\n",
        "print()\n",
        "\n",
        "doc = nlp(selected_review_text) \n",
        "print(\"Entities found in review #{}:\".format(review_number))\n",
        "print('ENTITY\\t\\t\\tTYPE')\n",
        "for X in doc.ents:\n",
        "  print(\"{:<16}\\t{}\".format(X.text,X.label_))\n",
        "print()\n"
      ],
      "execution_count": 0,
      "outputs": [
        {
          "output_type": "stream",
          "text": [
            "ok i had a one day stay in nyc on business and wanted to splurge a bit. after searching through dozens of hotels on essentravel.com i found the sherry netherland. the price was $700 a night but i said what the heck.i was not dissapointed. the staff were more than helpful, the rooms were opulent and clean, i had a great stay. if you want to splurge a bit, give the sherry a try. its great!!\n",
            "\n",
            "\n",
            "Entities found in review #1:\n",
            "ENTITY\t\t\tTYPE\n",
            "one day         \tDATE\n",
            "dozens          \tCARDINAL\n",
            "700             \tMONEY\n",
            "\n"
          ],
          "name": "stdout"
        }
      ]
    },
    {
      "cell_type": "markdown",
      "metadata": {
        "id": "82W_ctDETZex",
        "colab_type": "text"
      },
      "source": [
        "We can also print the entity tags that are applied to each token. The first tag is a B or I, indictaing whether this token is the beginning of the entity or 'inside' the entity (i.e. not the first token).\n",
        "An 'O' means no entity. The code below only prints the entity information for tokens that are entities. "
      ]
    },
    {
      "cell_type": "code",
      "metadata": {
        "id": "A8oCcfQuNsgI",
        "colab_type": "code",
        "outputId": "32a961cb-959d-4809-8d41-f6f6157ccb3b",
        "colab": {
          "base_uri": "https://localhost:8080/",
          "height": 85
        }
      },
      "source": [
        "for token in doc:\n",
        "  if token.ent_iob_ != 'O':\n",
        "    print(\"{:<16}\\t{}\\t{}\".format(token.text, token.ent_iob_, token.ent_type_))"
      ],
      "execution_count": 0,
      "outputs": [
        {
          "output_type": "stream",
          "text": [
            "one             \tB\tDATE\n",
            "day             \tI\tDATE\n",
            "dozens          \tB\tCARDINAL\n",
            "700             \tB\tMONEY\n"
          ],
          "name": "stdout"
        }
      ]
    },
    {
      "cell_type": "markdown",
      "metadata": {
        "id": "sMDOHwIdYkJq",
        "colab_type": "text"
      },
      "source": [
        "We can also display a more intuitive rendering of entities, which again uses the entity codes."
      ]
    },
    {
      "cell_type": "code",
      "metadata": {
        "id": "YT1LA-7BN0Yw",
        "colab_type": "code",
        "outputId": "78074754-a575-4d8a-8486-c5d7e03a8e10",
        "colab": {
          "base_uri": "https://localhost:8080/",
          "height": 122
        }
      },
      "source": [
        "displacy.render(doc, jupyter=True, style='ent')"
      ],
      "execution_count": 0,
      "outputs": [
        {
          "output_type": "display_data",
          "data": {
            "text/html": [
              "<div class=\"entities\" style=\"line-height: 2.5\">ok i had a \n",
              "<mark class=\"entity\" style=\"background: #bfe1d9; padding: 0.45em 0.6em; margin: 0 0.25em; line-height: 1; border-radius: 0.35em; box-decoration-break: clone; -webkit-box-decoration-break: clone\">\n",
              "    one day\n",
              "    <span style=\"font-size: 0.8em; font-weight: bold; line-height: 1; border-radius: 0.35em; text-transform: uppercase; vertical-align: middle; margin-left: 0.5rem\">DATE</span>\n",
              "</mark>\n",
              " stay in nyc on business and wanted to splurge a bit. after searching through \n",
              "<mark class=\"entity\" style=\"background: #e4e7d2; padding: 0.45em 0.6em; margin: 0 0.25em; line-height: 1; border-radius: 0.35em; box-decoration-break: clone; -webkit-box-decoration-break: clone\">\n",
              "    dozens\n",
              "    <span style=\"font-size: 0.8em; font-weight: bold; line-height: 1; border-radius: 0.35em; text-transform: uppercase; vertical-align: middle; margin-left: 0.5rem\">CARDINAL</span>\n",
              "</mark>\n",
              " of hotels on essentravel.com i found the sherry netherland. the price was $\n",
              "<mark class=\"entity\" style=\"background: #e4e7d2; padding: 0.45em 0.6em; margin: 0 0.25em; line-height: 1; border-radius: 0.35em; box-decoration-break: clone; -webkit-box-decoration-break: clone\">\n",
              "    700\n",
              "    <span style=\"font-size: 0.8em; font-weight: bold; line-height: 1; border-radius: 0.35em; text-transform: uppercase; vertical-align: middle; margin-left: 0.5rem\">MONEY</span>\n",
              "</mark>\n",
              " a night but i said what the heck.i was not dissapointed. the staff were more than helpful, the rooms were opulent and clean, i had a great stay. if you want to splurge a bit, give the sherry a try. its great!!</div>"
            ],
            "text/plain": [
              "<IPython.core.display.HTML object>"
            ]
          },
          "metadata": {
            "tags": []
          }
        }
      ]
    },
    {
      "cell_type": "markdown",
      "metadata": {
        "id": "QP7IApeUZjqv",
        "colab_type": "text"
      },
      "source": [
        "You could simply type any text you like into the string below to see what entities it contains."
      ]
    },
    {
      "cell_type": "code",
      "metadata": {
        "id": "R_-OYiQ1Zrs1",
        "colab_type": "code",
        "outputId": "7c1999a8-74b1-45a0-f226-58687179e400",
        "colab": {
          "base_uri": "https://localhost:8080/",
          "height": 52
        }
      },
      "source": [
        "text = \"IBM released earnings of $5 per share today. I went to New york City and then NYC.\"\n",
        "doc = nlp(text)\n",
        "displacy.render(doc, jupyter=True, style='ent')"
      ],
      "execution_count": 0,
      "outputs": [
        {
          "output_type": "display_data",
          "data": {
            "text/html": [
              "<div class=\"entities\" style=\"line-height: 2.5\">\n",
              "<mark class=\"entity\" style=\"background: #7aecec; padding: 0.45em 0.6em; margin: 0 0.25em; line-height: 1; border-radius: 0.35em; box-decoration-break: clone; -webkit-box-decoration-break: clone\">\n",
              "    IBM\n",
              "    <span style=\"font-size: 0.8em; font-weight: bold; line-height: 1; border-radius: 0.35em; text-transform: uppercase; vertical-align: middle; margin-left: 0.5rem\">ORG</span>\n",
              "</mark>\n",
              " released earnings of $\n",
              "<mark class=\"entity\" style=\"background: #e4e7d2; padding: 0.45em 0.6em; margin: 0 0.25em; line-height: 1; border-radius: 0.35em; box-decoration-break: clone; -webkit-box-decoration-break: clone\">\n",
              "    5\n",
              "    <span style=\"font-size: 0.8em; font-weight: bold; line-height: 1; border-radius: 0.35em; text-transform: uppercase; vertical-align: middle; margin-left: 0.5rem\">MONEY</span>\n",
              "</mark>\n",
              " per share \n",
              "<mark class=\"entity\" style=\"background: #bfe1d9; padding: 0.45em 0.6em; margin: 0 0.25em; line-height: 1; border-radius: 0.35em; box-decoration-break: clone; -webkit-box-decoration-break: clone\">\n",
              "    today\n",
              "    <span style=\"font-size: 0.8em; font-weight: bold; line-height: 1; border-radius: 0.35em; text-transform: uppercase; vertical-align: middle; margin-left: 0.5rem\">DATE</span>\n",
              "</mark>\n",
              ". I went to \n",
              "<mark class=\"entity\" style=\"background: #feca74; padding: 0.45em 0.6em; margin: 0 0.25em; line-height: 1; border-radius: 0.35em; box-decoration-break: clone; -webkit-box-decoration-break: clone\">\n",
              "    New york City\n",
              "    <span style=\"font-size: 0.8em; font-weight: bold; line-height: 1; border-radius: 0.35em; text-transform: uppercase; vertical-align: middle; margin-left: 0.5rem\">GPE</span>\n",
              "</mark>\n",
              " and then \n",
              "<mark class=\"entity\" style=\"background: #ff9561; padding: 0.45em 0.6em; margin: 0 0.25em; line-height: 1; border-radius: 0.35em; box-decoration-break: clone; -webkit-box-decoration-break: clone\">\n",
              "    NYC\n",
              "    <span style=\"font-size: 0.8em; font-weight: bold; line-height: 1; border-radius: 0.35em; text-transform: uppercase; vertical-align: middle; margin-left: 0.5rem\">LOC</span>\n",
              "</mark>\n",
              ".</div>"
            ],
            "text/plain": [
              "<IPython.core.display.HTML object>"
            ]
          },
          "metadata": {
            "tags": []
          }
        }
      ]
    },
    {
      "cell_type": "code",
      "metadata": {
        "id": "9rAGl9w0Bu8K",
        "colab_type": "code",
        "outputId": "e8b48a44-4f10-4f07-82d5-e0abbd45e18b",
        "colab": {
          "base_uri": "https://localhost:8080/",
          "height": 52
        }
      },
      "source": [
        "text = \"But Google is starting from behind.\"\n",
        "\n",
        "ex = [{\"text\": text,\n",
        "       \"ents\": [{\"start\": 4, \"end\": 10, \"label\": \"ORG\"},{\"start\": 13, \"end\": 22, \"label\": \"ACT\"}]\n",
        "      }]\n",
        "html = displacy.render(ex, style=\"ent\", manual=True, jupyter=True)\n",
        "\n"
      ],
      "execution_count": 0,
      "outputs": [
        {
          "output_type": "display_data",
          "data": {
            "text/html": [
              "<div class=\"entities\" style=\"line-height: 2.5\">But \n",
              "<mark class=\"entity\" style=\"background: #7aecec; padding: 0.45em 0.6em; margin: 0 0.25em; line-height: 1; border-radius: 0.35em; box-decoration-break: clone; -webkit-box-decoration-break: clone\">\n",
              "    Google\n",
              "    <span style=\"font-size: 0.8em; font-weight: bold; line-height: 1; border-radius: 0.35em; text-transform: uppercase; vertical-align: middle; margin-left: 0.5rem\">ORG</span>\n",
              "</mark>\n",
              " is\n",
              "<mark class=\"entity\" style=\"background: #ddd; padding: 0.45em 0.6em; margin: 0 0.25em; line-height: 1; border-radius: 0.35em; box-decoration-break: clone; -webkit-box-decoration-break: clone\">\n",
              "     starting\n",
              "    <span style=\"font-size: 0.8em; font-weight: bold; line-height: 1; border-radius: 0.35em; text-transform: uppercase; vertical-align: middle; margin-left: 0.5rem\">ACT</span>\n",
              "</mark>\n",
              " from behind.</div>"
            ],
            "text/plain": [
              "<IPython.core.display.HTML object>"
            ]
          },
          "metadata": {
            "tags": []
          }
        }
      ]
    }
  ]
}