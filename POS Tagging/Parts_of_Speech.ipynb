{
  "nbformat": 4,
  "nbformat_minor": 0,
  "metadata": {
    "colab": {
      "name": "Parts of Speech.ipynb",
      "version": "0.3.2",
      "provenance": [],
      "collapsed_sections": []
    },
    "kernelspec": {
      "name": "python3",
      "display_name": "Python 3"
    }
  },
  "cells": [
    {
      "cell_type": "markdown",
      "metadata": {
        "id": "-TA3Ub85o2Q0",
        "colab_type": "text"
      },
      "source": [
        "#Load all hotel reviews"
      ]
    },
    {
      "cell_type": "code",
      "metadata": {
        "id": "suxozX61ov-b",
        "colab_type": "code",
        "outputId": "6c5b61dc-0200-43ff-dd56-8cff6a26a980",
        "colab": {
          "base_uri": "https://localhost:8080/",
          "height": 51
        }
      },
      "source": [
        "from google.colab import drive\n",
        "import os\n",
        "drive.mount(\"/content/gdrive\")\n",
        "\n",
        "import pandas as pd\n",
        "\n",
        "if os.path.isfile(\"/content/gdrive/My Drive/Data/new-york-city.csv\"):\n",
        "  with open('/content/gdrive/My Drive/Data/new-york-city.csv', 'r') as f:\n",
        "    reviews = pd.read_csv(f, sep=\"\\t\",  header=None, usecols=[0,1,2,3], quoting=3,\n",
        "                    names = [\"Hotel Name\", \"Date of Review\", \"Review Headline\", \"Review Text\"])\n",
        "    reviews[\"Review Headline\"] = reviews[\"Review Headline\"].str.lower() # convert all review headlines to lowercase\n",
        "    reviews[\"Review Text\"] = reviews[\"Review Text\"].str.lower() # convert all review text to lowercase\n",
        "\n",
        "    print(\"Reviews file read successfully\")\n",
        "else:\n",
        "  print(\"Data folder does not contain 'new-york-city.csv'\")"
      ],
      "execution_count": 0,
      "outputs": [
        {
          "output_type": "stream",
          "text": [
            "Drive already mounted at /content/gdrive; to attempt to forcibly remount, call drive.mount(\"/content/gdrive\", force_remount=True).\n",
            "Reviews file read successfully\n"
          ],
          "name": "stdout"
        }
      ]
    },
    {
      "cell_type": "code",
      "metadata": {
        "id": "WarPEXeOo6v3",
        "colab_type": "code",
        "colab": {}
      },
      "source": [
        "import spacy\n",
        "from spacy import displacy\n",
        "nlp = spacy.load('en')\n",
        "\n",
        "import re\n",
        "from collections import Counter\n",
        "import time"
      ],
      "execution_count": 0,
      "outputs": []
    },
    {
      "cell_type": "markdown",
      "metadata": {
        "id": "74gic4YppFo0",
        "colab_type": "text"
      },
      "source": [
        "Search for particular parts of speech in hotel reviews. Change the second line to find a particular part of speech."
      ]
    },
    {
      "cell_type": "code",
      "metadata": {
        "id": "zxJ8c7jNpJNz",
        "colab_type": "code",
        "outputId": "a7381b4d-f616-4ec8-b68c-d07f7d678ef9",
        "colab": {
          "base_uri": "https://localhost:8080/",
          "height": 170
        }
      },
      "source": [
        "maximum_number_of_reviews_to_process = 2000\n",
        "target_pos = 'ADJ'\n",
        "\n",
        "column_name = \"Review Text\"\n",
        "all_review_text = reviews[column_name].dropna()\n",
        "\n",
        "noun_counter = Counter()\n",
        "last_time = -1\n",
        "for review_number, text in all_review_text.iteritems():\n",
        "  if review_number % 250 == 0:\n",
        "    print(\"processing review \", review_number, 'of', maximum_number_of_reviews_to_process,' reviews so far. ', end = \" \")\n",
        "    if last_time != -1:\n",
        "      current_time = time.time()\n",
        "      elapsed_time = current_time - last_time\n",
        "      reviews_per_minute = 60 * 500 / elapsed_time \n",
        "      print(\"{:.0f} reviews / minute\".format(reviews_per_minute))\n",
        "    else:\n",
        "      print()\n",
        "    last_time = time.time()\n",
        "  doc = nlp(text)\n",
        "  for token in doc:\n",
        "    if token.pos_ == target_pos:\n",
        "      noun_counter[token.text] += 1\n",
        "  \n",
        "  if review_number > maximum_number_of_reviews_to_process:\n",
        "    break\n",
        "\n",
        "print('Done.')"
      ],
      "execution_count": 0,
      "outputs": [
        {
          "output_type": "stream",
          "text": [
            "processing review  0 of 2000  reviews so far.  \n",
            "processing review  500 of 2000  reviews so far.  927 reviews / minute\n",
            "processing review  750 of 2000  reviews so far.  1896 reviews / minute\n",
            "processing review  1000 of 2000  reviews so far.  1568 reviews / minute\n",
            "processing review  1250 of 2000  reviews so far.  1894 reviews / minute\n",
            "processing review  1500 of 2000  reviews so far.  1687 reviews / minute\n",
            "processing review  1750 of 2000  reviews so far.  1738 reviews / minute\n",
            "processing review  2000 of 2000  reviews so far.  2058 reviews / minute\n",
            "Done.\n"
          ],
          "name": "stdout"
        }
      ]
    },
    {
      "cell_type": "markdown",
      "metadata": {
        "id": "uRCD1q0Au-Cd",
        "colab_type": "text"
      },
      "source": [
        "Print the most common words that are of a particular part of speech. Change the first line number to change how many words are printed."
      ]
    },
    {
      "cell_type": "code",
      "metadata": {
        "id": "Z_3U_Gk_qeLT",
        "colab_type": "code",
        "outputId": "13370f4f-26e8-4a25-c800-655e19bd1331",
        "colab": {
          "base_uri": "https://localhost:8080/",
          "height": 1105
        }
      },
      "source": [
        "number_of_words_to_print = 60  # change this to show a different number of teh most common nouns\n",
        "nouns_to_delete = [\"i\",\"we\", \"it\",\"you\",\"they\"] # this list must have only lowercase words\n",
        "\n",
        "for noun in nouns_to_delete:\n",
        "  if noun in noun_counter:\n",
        "    del noun_counter[noun]\n",
        "\n",
        "print(len(noun_counter),' words in counter.')\n",
        "print()\n",
        "print(\"MOST COMMON Words\")\n",
        "print(\"Word\\tFrequency:\")\n",
        "for word, frequency in noun_counter.most_common(number_of_words_to_print):\n",
        "  print(\"{}\\t{:,}\".format(word, frequency))"
      ],
      "execution_count": 0,
      "outputs": [
        {
          "output_type": "stream",
          "text": [
            "2616  words in counter.\n",
            "\n",
            "MOST COMMON Words\n",
            "Word\tFrequency:\n",
            "our\t2,089\n",
            "great\t1,618\n",
            "my\t1,448\n",
            "which\t1,026\n",
            "good\t1,010\n",
            "new\t895\n",
            "nice\t833\n",
            "clean\t812\n",
            "small\t804\n",
            "square\t756\n",
            "that\t598\n",
            "friendly\t557\n",
            "helpful\t556\n",
            "comfortable\t544\n",
            "your\t520\n",
            "other\t504\n",
            "central\t457\n",
            "nyc\t448\n",
            "little\t422\n",
            "front\t403\n",
            "large\t375\n",
            "next\t365\n",
            "first\t361\n",
            "all\t358\n",
            "their\t351\n",
            "excellent\t344\n",
            "more\t334\n",
            "big\t319\n",
            "best\t294\n",
            "few\t291\n",
            "its\t280\n",
            "many\t271\n",
            "free\t270\n",
            "perfect\t266\n",
            "quiet\t251\n",
            "fantastic\t249\n",
            "only\t248\n",
            "better\t246\n",
            "huge\t236\n",
            "spacious\t224\n",
            "double\t222\n",
            "much\t212\n",
            "old\t193\n",
            "last\t192\n",
            "most\t190\n",
            "easy\t190\n",
            "close\t182\n",
            "same\t179\n",
            "lovely\t176\n",
            "wonderful\t173\n",
            "safe\t170\n",
            "available\t160\n",
            "sure\t158\n",
            "second\t157\n",
            "high\t156\n",
            "extra\t156\n",
            "right\t155\n",
            "hot\t155\n",
            "able\t151\n",
            "expensive\t144\n"
          ],
          "name": "stdout"
        }
      ]
    }
  ]
}