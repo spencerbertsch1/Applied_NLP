{
  "nbformat": 4,
  "nbformat_minor": 0,
  "metadata": {
    "colab": {
      "name": "Class 1 Hotel reviews and regular expressions.ipynb",
      "version": "0.3.2",
      "provenance": [],
      "collapsed_sections": []
    },
    "kernelspec": {
      "name": "python3",
      "display_name": "Python 3"
    }
  },
  "cells": [
    {
      "cell_type": "markdown",
      "metadata": {
        "id": "cJTQFnH5obI5",
        "colab_type": "text"
      },
      "source": [
        "# Prepare to read files from your Google Drive account"
      ]
    },
    {
      "cell_type": "code",
      "metadata": {
        "id": "Q5O-3zphqMLQ",
        "colab_type": "code",
        "colab": {}
      },
      "source": [
        "from google.colab import drive\n",
        "drive.mount(\"/content/gdrive\")\n"
      ],
      "execution_count": 0,
      "outputs": []
    },
    {
      "cell_type": "markdown",
      "metadata": {
        "id": "jUcZY6xUoic4",
        "colab_type": "text"
      },
      "source": [
        "Print the files in your Google Drive account just as a test."
      ]
    },
    {
      "cell_type": "code",
      "metadata": {
        "id": "-VfRXs2JrEZL",
        "colab_type": "code",
        "colab": {}
      },
      "source": [
        "import os\n",
        "os.listdir(\"/content/gdrive/My Drive/\")"
      ],
      "execution_count": 0,
      "outputs": []
    },
    {
      "cell_type": "markdown",
      "metadata": {
        "id": "a5lWtB38oHZa",
        "colab_type": "text"
      },
      "source": [
        "#Read New York City hotel reviews file"
      ]
    },
    {
      "cell_type": "markdown",
      "metadata": {
        "id": "bYiqPrYdoL8y",
        "colab_type": "text"
      },
      "source": [
        "This code cell assumes the file \"new-york-city.csv\" has already been copied to your Google Drive account as described in the notebook required for Assignment 0."
      ]
    },
    {
      "cell_type": "code",
      "metadata": {
        "id": "Rl8YKV86oGey",
        "colab_type": "code",
        "colab": {}
      },
      "source": [
        "import pandas as pd\n",
        "\n",
        "if os.path.isfile(\"/content/gdrive/My Drive/Data/new-york-city.csv\"):\n",
        "  with open('/content/gdrive/My Drive/Data/new-york-city.csv', 'r') as f:\n",
        "    reviews = pd.read_csv(f, sep=\"\\t\",  header=None, usecols=[0,1,2,3], quoting=3,\n",
        "                    names = [\"Hotel Name\", \"Date of Review\", \"Review Headline\", \"Review Text\"])\n",
        "    print(\"Reviews read successfully\")\n",
        "    number_of_reviews = len(reviews.index)\n",
        "    print('There are {:,} reviews in the file.'.format(number_of_reviews))\n",
        "else:\n",
        "  print(\"Data folder does not contain 'new-york-city.csv'\")"
      ],
      "execution_count": 0,
      "outputs": []
    },
    {
      "cell_type": "markdown",
      "metadata": {
        "id": "ulT-M-qgpPmV",
        "colab_type": "text"
      },
      "source": [
        "The code cell below gets the unique values in the \"Hotel Names\" column, and so gets the distinct hotels that are reviewed."
      ]
    },
    {
      "cell_type": "code",
      "metadata": {
        "id": "rZNgX4hApR7m",
        "colab_type": "code",
        "colab": {}
      },
      "source": [
        "unique_hotel_names = reviews[\"Hotel Name\"].unique() # get a list containing the unique values in the \"Hotel Name\" column\n",
        "number_of_hotels = len(unique_hotel_names) # count how many hotel names there are with the len() command\n",
        "print(number_of_hotels, 'hotels reviewed')"
      ],
      "execution_count": 0,
      "outputs": []
    },
    {
      "cell_type": "markdown",
      "metadata": {
        "id": "KQfrrSuGpoG0",
        "colab_type": "text"
      },
      "source": [
        "Search for pattern in the \"Review Headline\" column of all reviews."
      ]
    },
    {
      "cell_type": "code",
      "metadata": {
        "id": "ph-y4gA9p0uE",
        "colab_type": "code",
        "colab": {}
      },
      "source": [
        "import re\n",
        "# Create a reguar expression to match against review headlines.\n",
        "# The string starts with 'r' before the opening quote to indicate it is a regular expression.\n",
        "regex = r'horrible'\n",
        "digits_pattern = re.compile(regex)\n",
        "\n",
        "\n",
        "all_headlines = reviews[\"Review Headline\"]\n",
        "\n",
        "number_of_matches = 0\n",
        "for review_number, headline in all_headlines.iteritems():\n",
        "  # see if headline matches the pattern\n",
        "  match = digits_pattern.search(headline)\n",
        "  if match is not None:\n",
        "    number_of_matches  += 1\n",
        "    print(review_number, headline)\n",
        "print()\n",
        "print('{:,} matches for pattern \"{}\"'.format(number_of_matches, regex))"
      ],
      "execution_count": 0,
      "outputs": []
    },
    {
      "cell_type": "markdown",
      "metadata": {
        "id": "3RfrKDpKWZaA",
        "colab_type": "text"
      },
      "source": [
        "We can make a slight change to the  ```\n",
        "compile() ``` method so that it ignores whether the letters are upper or lower case in deciding whether text in the headline matches the regular expression.\n",
        "\n"
      ]
    },
    {
      "cell_type": "code",
      "metadata": {
        "id": "q0H3STx5XCzj",
        "colab_type": "code",
        "colab": {}
      },
      "source": [
        "regex = r'horrible'\n",
        "digits_pattern = re.compile(regex, flags=re.IGNORECASE)\n",
        "\n",
        "number_of_matches = 0\n",
        "for review_number, headline in all_headlines.iteritems():\n",
        "  # see if headline matches the pattern\n",
        "  match = digits_pattern.search(headline)\n",
        "  if match is not None:\n",
        "    number_of_matches  += 1\n",
        "    print(review_number, headline)\n",
        "print()\n",
        "print('{:,} matches for pattern \"{}\" when case is ignored'.format(number_of_matches, regex))"
      ],
      "execution_count": 0,
      "outputs": []
    },
    {
      "cell_type": "markdown",
      "metadata": {
        "id": "I9Qz8YL8r7fY",
        "colab_type": "text"
      },
      "source": [
        "Now the same thing with a regular expression that contains alternatives."
      ]
    },
    {
      "cell_type": "code",
      "metadata": {
        "id": "6Q221NDYsEz_",
        "colab_type": "code",
        "colab": {}
      },
      "source": [
        "regex = r'horrible|terrible'\n",
        "digits_pattern = re.compile(regex, flags=re.IGNORECASE)\n",
        "\n",
        "number_of_matches = 0\n",
        "for review_number, headline in all_headlines.iteritems():\n",
        "  # see if headline matches the pattern\n",
        "  match = digits_pattern.search(headline)\n",
        "  if match is not None:\n",
        "    number_of_matches  += 1\n",
        "    print(review_number, headline)\n",
        "print()\n",
        "print('{:,} matches for pattern \"{}\"'.format(number_of_matches, regex))"
      ],
      "execution_count": 0,
      "outputs": []
    }
  ]
}