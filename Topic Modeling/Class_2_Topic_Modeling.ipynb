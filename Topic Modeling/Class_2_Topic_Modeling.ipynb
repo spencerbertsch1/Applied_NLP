{
  "nbformat": 4,
  "nbformat_minor": 0,
  "metadata": {
    "colab": {
      "name": "Class 2 Topic Modeling.ipynb",
      "version": "0.3.2",
      "provenance": [],
      "collapsed_sections": [],
      "toc_visible": true
    },
    "kernelspec": {
      "name": "python3",
      "display_name": "Python 3"
    }
  },
  "cells": [
    {
      "cell_type": "markdown",
      "metadata": {
        "id": "xdjoyuPJIKYX",
        "colab_type": "text"
      },
      "source": [
        "# Load all hotel reviews"
      ]
    },
    {
      "cell_type": "markdown",
      "metadata": {
        "id": "-tlPG3NMINSC",
        "colab_type": "text"
      },
      "source": [
        "As before, access the hotel reviews file already in your Google Drive account."
      ]
    },
    {
      "cell_type": "code",
      "metadata": {
        "id": "wal6q6PMJF_j",
        "colab_type": "code",
        "outputId": "c55421cc-c27c-4e3a-82a5-196fa8de7995",
        "colab": {
          "base_uri": "https://localhost:8080/",
          "height": 71
        }
      },
      "source": [
        "from google.colab import drive\n",
        "import os\n",
        "drive.mount(\"/content/gdrive\")\n",
        "\n",
        "import pandas as pd\n",
        "\n",
        "if os.path.isfile(\"/content/gdrive/My Drive/Data/new-york-city.csv\"):\n",
        "  with open('/content/gdrive/My Drive/Data/new-york-city.csv', 'r') as f:\n",
        "    reviews = pd.read_csv(f, sep=\"\\t\",  header=None, usecols=[0,1,2,3], quoting=3,\n",
        "                    names = [\"Hotel Name\", \"Date of Review\", \"Review Headline\", \"Review Text\"])\n",
        "    reviews[\"Review Headline\"] = reviews[\"Review Headline\"].str.lower() # convert all review headlines to lowercase\n",
        "    reviews[\"Review Text\"] = reviews[\"Review Text\"].str.lower() # convert all review text to lowercase\n",
        "\n",
        "    print(\"Reviews file read successfully\")\n",
        "else:\n",
        "  print(\"Data folder does not contain 'new-york-city.csv'\")"
      ],
      "execution_count": 0,
      "outputs": [
        {
          "output_type": "stream",
          "text": [
            "Drive already mounted at /content/gdrive; to attempt to forcibly remount, call drive.mount(\"/content/gdrive\", force_remount=True).\n",
            "Reviews file read successfully\n"
          ],
          "name": "stdout"
        }
      ]
    },
    {
      "cell_type": "code",
      "metadata": {
        "id": "E9bjZW3lKC8L",
        "colab_type": "code",
        "colab": {}
      },
      "source": [
        "review_text = reviews[\"Review Text\"] # get only the hotel reviews column\n",
        "review_text = review_text.dropna() # skip empty reviews\n",
        "\n",
        "documents = []\n",
        "for _, text in review_text.iteritems():\n",
        "  documents.append(text)\n"
      ],
      "execution_count": 0,
      "outputs": []
    },
    {
      "cell_type": "markdown",
      "metadata": {
        "id": "NdEbsHFSxiQE",
        "colab_type": "text"
      },
      "source": [
        "\n",
        "\n",
        "---\n",
        "\n",
        "\n",
        "\n",
        "---\n",
        "\n"
      ]
    },
    {
      "cell_type": "code",
      "metadata": {
        "id": "W8aR4hci9D8e",
        "colab_type": "code",
        "colab": {}
      },
      "source": [
        "#@title Set topic modeling algorithm arguments\n",
        "\n",
        "no_topics = 2 #@param {type:\"integer\"}\n",
        "\n",
        "no_top_words = 6 #@param {type:\"integer\"}\n",
        "\n",
        "no_top_documents = 3 #@param {type:\"integer\"}\n",
        "\n",
        "from sklearn.feature_extraction.text import TfidfVectorizer, CountVectorizer\n",
        "from sklearn.decomposition import NMF, LatentDirichletAllocation\n",
        "import numpy as np"
      ],
      "execution_count": 0,
      "outputs": []
    },
    {
      "cell_type": "code",
      "metadata": {
        "id": "1-iV64YMqATQ",
        "colab_type": "code",
        "outputId": "59737c4b-5f66-4fcc-83e8-b036fb012d0e",
        "colab": {
          "base_uri": "https://localhost:8080/",
          "height": 275
        }
      },
      "source": [
        "#@title Run NMF\n",
        "\n",
        "def display_topics(H, W, feature_names, documents, no_top_words, no_top_documents):\n",
        "    for topic_idx, topic in enumerate(H):\n",
        "      print()\n",
        "      print(\"Topic {}:\".format(topic_idx),\", \".join([feature_names[i]\n",
        "                        for i in topic.argsort()[:-no_top_words - 1:-1]]) )\n",
        "      print()\n",
        "      top_doc_indices = np.argsort( W[:,topic_idx] )[::-1][0:no_top_documents]\n",
        "      for doc_index in top_doc_indices:\n",
        "        print(documents[doc_index])\n",
        "\n",
        "# NMF is able to use tf-idf\n",
        "tfidf_vectorizer = TfidfVectorizer(max_df=0.95, min_df=2, stop_words='english')\n",
        "tfidf = tfidf_vectorizer.fit_transform(documents)\n",
        "tfidf_feature_names = tfidf_vectorizer.get_feature_names()\n",
        "\n",
        "# Run NMF\n",
        "nmf_model = NMF(n_components=no_topics, random_state=1, alpha=.1, l1_ratio=.5, init='nndsvd').fit(tfidf)\n",
        "nmf_W = nmf_model.transform(tfidf)\n",
        "nmf_H = nmf_model.components_\n",
        "\n",
        "print(\"NMF Topics\")\n",
        "display_topics(nmf_H, nmf_W, tfidf_feature_names, documents, no_top_words, no_top_documents)\n",
        "print(\"--------------\")\n",
        "\n"
      ],
      "execution_count": 0,
      "outputs": [
        {
          "output_type": "stream",
          "text": [
            "NMF Topics\n",
            "\n",
            "Topic 0: hotel, great, room, location, staff, clean\n",
            "\n",
            "we stayed in this hotel for 9 nights during our stay in new york. we got a great deal on the hotel's website. the location was great, very central to everything. the subway was at the end of the block and we had a great view of the empire state building from our hotel room. the rooms were very clean and had everything we needed for our stay.breakfast in the hotel was expensive and not that great. there was a deli called speedy's a few blocks downtown which had a much better breakfast for a lot less.we would definitely recommend this hotel for anyone staying in new york.\n",
            "we have been to new york 3 times now , and this is the best hotel we have stayed in , friendly helpful staff , really nice rooms and a great location . we will return there next time in new york\n",
            "a nice clean hotel in a great location.small rooms, big breakfast, great coffee.overall very good, would stay here again\n",
            "\n",
            "Topic 1: quot, room, desk, night, hotel, did\n",
            "\n",
            "well, i wish we had a better review to report, but this one will not be great....we arrived at jfk late thursday, nov 16th. our flight was late by 2 hours due to weather in new york....the landing was very scary. however, we felt lucky afterwards as most flights out of toronto had been cancelled (we flew with american on a very small plane).we had booked with expedia and all seemed well. we pre-booked our shuttle into new york and that took 45 min or longer to get to the airport...more waiting...still o.k., as we were &quot;here&quot;!after a very friendly but exhuasting trip into manhattan with our informative driver, we had arrived. novotel has its entrance on 52nd street, even though the sign is on broadway...just to note...we took the elevator with all of our bags at midnight to the second floor where the check-in desk was. no one offered to help us with our 3 bags and armload of &quot;stuff&quot;. we shuffled over to the desk and met with &quot;gus&quot;. he informed us without any emotion that the hotel had been over-booked, but how lucky were we ...that we were being booked into their sister hotel the &quot;sofitel&quot;. we were exhausted and had not anticipated this. i asked him to &quot;check again&quot; and he just stood there...&quot;no&quot; he said ...&quot;we are over-booked&quot;. we had booked this hotel 10 weeks ago. we had confirmed our king superior room on wednesday (the night before) evening. we asked for wine etc. to be in our room as it was our anniversary...on wednesday...no problem said the voice....&quot;gus&quot; handed us $20.00 for the cab and told us sorry. we will give you &quot;coupons tomorrow because of the mix-up! &quot; again, no offer for our bags...down we went to the street...upset and tired. we had a tour in the morning at 9:30am and we would have to find our way back as the pick up was out in times square...not happy.we got into a limo cab that was hailed by the desk security man on the ground floor. he told us after talking with the cab it would be $20.00!!!! now i may be a tourist, but i knew generally that this hotel was only about 6 blocks or so away. i told the man $10.00. don't take limo's....becasue of this and...he drove around for almost an hour arguing with other cabbies on the locations of the sofitel....which we told him we were going...he did not know the location!!! at nearly 1a.m., we were very frustrated....we had given him the exact address...that &quot;gus&quot; had written down on a piece of paper...our cabbie said it did not make sense. we eventually found the sofitel at the sofitel, they were very arrogant and said &quot;oh, you are &quot;lucky&quot; as we are going to provide you with a king room.&quot; lucky!!! not so i told her and please know that these front desk people at these hotels (novotel and sofitel) always think they are doing you a big favour....i told her that i had already paid for a king superior room at my other hotel....the sister hotel to this one...and that i was not lucky! she was very rude and told us that we were lucky as this was a four star hotel, she was very condescending. i told her that our bags needed to be sent to the novitel in the morning...&quot;fine ...we will take of that...but we do not normally do that&quot;....i said ...well do your hotels normally overbook poeple and send them out literally in the middle of the night? again, we had to find our way to our room...no one offered to help us with our bags...they just watched us shuffle and grunt our way to the elevator. our room was on the third floor and basically looked at a wall of a building. it was very late by this time and we just fell asleep....after noting that there was no top sheet on our bed...sleeping in our clothes!!!!in the morning, we called the novotel and told them that we wanted our room...none were ready....we told them we had a tour to go on and they needed to get our bags over to the novotel as after our tour we had dinner reservations and did not want to run back to the sofitel. sorry ...we don't do that!!!! hubby went to the front desk of the sofitel and advised them that it was agreed the night before that the hotel would bring our bags to the novitel....&quot;we don't do that and we can't help you&quot; was the reply....hubby then came back up to the room and called the novitel again...the girl on the other end told us that &quot;maybe&quot; the sofitel can hold your bags for you....maybe????? we told her what had happened, &quot;sorry i can't help you.&quot;..we advised her that we knew were staying at the sister hotel and that she would have to get the manager. it was 9:00 am...we were to be at our tour destination at 9:30. we sat on the phone for 30 minutes. no one ever came back to us...hubby stayed on the phone and i went downstairs to beg our tour company to wait for us. no problem they told us ...as long at you are here by 10:00am. i then went to the sofitel desk and told them &quot;that they were going to get our bags over to our hotel&quot;....in a very quiet ...on the verge of exploding voice....that worked!!!we got to our tour just in time...they actually waited for us...great company&quot;ny party tours&quot;.back at the novitel...sorry we have no superior rooms facing times square...we do have a smoking room....i told them about my asthma....we finally got our room on the 31st floor! we had no view of times square ....unless you opened the window and pushed your head out .....the room is fine...any room you would get anywhere at a $100.00 a night anywhere in the world. adequate size, not super clean (bathroom). but fine. the pillows are barely there, but becasue it is a king, you get three. older bed-spread, all in all fine. the location is what you are paying for. after another night here, we found gus and asked for our coupons. he had &quot;forgotten&quot; and wrote out breakfast coupons, only we were leaving early the next day and could not use them...we tried to give them to another couple...but the hotel informed us that they were not transferable. ...sigh... on the second day here our room was not made up after returning from a day out. i had to phone down for towles and shampoo.. they only sent up one bath and one had towel...we had to call again. if you want a hotel that basically is self-serve...this is your hotel....if you don't have to deal with mangement...we got some fruit sent up as an apology...then this hotel will be fine for you. however, this company does not want to go out of its' way for the client. if you give up....you will not get far here. i have stayed in novotel in ottawa, and it was fine...never this company again though.there are so many more hotels in this price range right in the same area. hope you have a better expience than we did if you have chosen this hotel...stand your ground is our best advise...it should not get to that extent....they need to work at better custemer appreciation.\n",
            "my husband and i went to nyc to celebrate our 11th anniversary. we decided soho would be a fun spot with greenwich village and tribeca being within walking distance. i did read a lot of negativity on this website about the soho grand, but thought if we paid for one of their upscale rooms, it would still be a pleasant experience.i requested a north-facing room so we could see the empire state building, as high up as possible. we got an east-facing room (nothing view-wise) on the 14th floor (16th is the penthouse suites). when i made the reservation, the person in reservations was trying very hard to sell me on their weekend package, saying, &quot;you might as well do it because it doesn't cost you anything extra. you get 2 free drink coupons, champagne upon arrival, 2 free breakfast coupons, early check-in and late check-out.&quot; i don't understand why the big sell...we had to practically beg to get these things. they have certain times they give the champagne, and we arrived too late for it. when they gave us our room keys upon check-in, there was no drink coupons or breakfast coupons in our arrival envelope. we arrived too late for the early check-in and we would be checking out late to catch our flight, so we couldn't benefit from that either.when we entered our room, it absolutely wreaked of stale cigarette smoke. it was late when we got there, so we decided to stay in the room and have them move us in the morning. i called the front desk first thing in the morning to complain, and they said they'd call me right back. it was that evening before they called back to tell us they didn't have any other non-smoking rooms at the room level we wanted, but they'd be happy to move us down a few floors to their least expensive (small!) room. (after reading how ultra-small the rooms were, we reserved a larger room--which was quite suitable in size for 2 people. we kept the room because of the size, but in hindsight, should have moved. the smoke smell gave me a dull headache every morning and all my clothes wreaked of cigarette smoke.)we stayed 3 nights, and by 11pm on the 2nd night, we still had not received anything that came in the &quot;package&quot; i bought. i called the front desk to vent the fact our room stunk so badly and that we still had not received our freebies, plus we didn't get a turn-down service that night. the front desk manager said, &quot;oh, we don't do turn-down service unless you request it.&quot; i couldn't believe my ears. for the price we paid, it didn't include turn-down service? when i complained of not receiving any of the things from our package, she said, &quot;yes, i see. you have a very valid complaint. i'm sorry your room stinks, but we turned that whole floor into a non-smoking floor and didn't give it time to air out. you're not the first person to complain.&quot;okay, at this point, i'm furious because she's not offering any solutions until i asked her directly, &quot;so what are you going to do about all these problems?&quot; she had everything from our &quot;package&quot; delivered to our room 15 minutes later. she offered to spray our room with something to disguise the smell, but i declined the offer fearing we'd be smelling floral mixed with stale smoke.the only thing this hotel has going for it is location. during our 3-night stay, we never saw any employees that looked like they were over 35 years old. this was odd to us. all the doormen, front desk employees, waiters, waitresses, they all were very young--early 20's to mid-30's. i felt like these employees did not have the years of experience to know how to treat their guests. they were all a little aloof. (no, i didn't chalk it up as &quot;nyc attitude,&quot; i chalked it up to poor training.) just off the front desk is their lounge. it was a comfortable place to sit for a drink, but they kept loud synthesized music going non-stop from the afternoon through the night. i guess at 45 years old, i'm too old to appreciate canned, synthesized music. it seemed like a desperate attempt to be &quot;hip.&quot; i'm interested in knowing who their client base is, because i can't see the young &quot;hip&quot; 20-ish people who were hanging out in the bar actually spending $500/night for a room. apparently, the hotel is trying to appeal to that age group.during our weekend, my husband and i popped into a few hotels to check them out for future reference. for what we paid at the soho grand, we could get a room at the peninsula hotel, which is probably where we'll stay next time. that hotel has class.\n",
            "this is a &quot;no frills...no anything&quot; hotel. but for $139 per night, what do you expect.issues: hot water is something you will miss out on here. there were occassions where there was none or the water temp was &quot;luke warm&quot; at best. and if your looking for a bathroom with some room, &quot;furgettabotit&quot;. in fact, the one room i stayed in had a toilet at such an &quot;unusual&quot; angle that the only way one could &quot;seat&quot; themselves was sideways. pillows are another &quot;item&quot; which they seem to miss out on. their were all &quot;flat&quot; as a pancake. as for any sort of chair (other than the one they give you for the desk) there may or may not be one in your room depending on which one you get.rooms are simple and basic. the &quot;closet&quot; is a small &quot;ardmore&quot; style piece of furniture which can allow you to put in 4-6 pieces of clothing and that's about it. there is only one vending machine for the 20 floors...it's on 3 and it's also where the only ice machine is. if you need an iron and ironing board, you have to go to a community closet to see if one is there. if not, then you wander up and down floors and hope you find one in a community closet somewhere.want a newspaper? got to go buy one at the store. rooms have a coffe maker, small fridge, and a hair dryer. and there is free &quot;wireless&quot; internet but the connection can be a bit shaky and the signal will vary from room to room and floor to floor. in one room having the computer on the floor by the door seemed to give me just enough &quot;signal&quot; strength to actually be used.oh yes, housekeeping will gladly leave you &quot;gifts&quot;. i was there for several months and found piles of used towels, other bags of garbage, and even cleaning supplies (guess they wanted me to clean my own room).i know, what do you expect for the money. but realistically, they eliminate most of the staff (you do your own &quot;self checkin&quot; and &quot;self checkout&quot; and there is no valet or even taxi service. so they could invest in &quot;business&quot; amentities that business travelers look for. afterall, they claim to be a hotel for business travelers!if your looking for value and nothing more then you might have found your &quot;haven&quot;. if your use to traveling like me and having a bit more amenities available to you then you will be disappointed.\n",
            "--------------\n"
          ],
          "name": "stdout"
        }
      ]
    },
    {
      "cell_type": "code",
      "metadata": {
        "id": "onfGom6U9oSq",
        "colab_type": "code",
        "colab": {}
      },
      "source": [
        "#@title Run LDA\n",
        "\n",
        "# LDA can only use raw term counts for LDA because it is a probabilistic graphical model\n",
        "\n",
        "# CountVectorizer converts a set of documents to a matrix of token counts\n",
        "tf_vectorizer = CountVectorizer(max_df=0.95, min_df=2, stop_words='english')\n",
        "\n",
        "# fit_transform learns the vocabulary dictionary and returns a term-document matrix\n",
        "tf = tf_vectorizer.fit_transform(documents)\n",
        "tf_feature_names = tf_vectorizer.get_feature_names()\n",
        "\n",
        "# Run LDA\n",
        "lda_model = LatentDirichletAllocation(n_components=no_topics, max_iter=5, learning_method='online', learning_offset=50.,random_state=0).fit(tf)\n",
        "lda_W = lda_model.transform(tf)\n",
        "lda_H = lda_model.components_\n",
        "\n",
        "print(\"LDA Topics\")\n",
        "display_topics(lda_H, lda_W, tf_feature_names, documents, no_top_words, no_top_documents)"
      ],
      "execution_count": 0,
      "outputs": []
    }
  ]
}