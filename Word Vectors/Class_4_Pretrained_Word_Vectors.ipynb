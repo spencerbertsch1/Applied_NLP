{
  "nbformat": 4,
  "nbformat_minor": 0,
  "metadata": {
    "colab": {
      "name": "Class 4 Pretrained Word Vectors.ipynb",
      "version": "0.3.2",
      "provenance": [],
      "collapsed_sections": [],
      "toc_visible": true
    },
    "kernelspec": {
      "name": "python3",
      "display_name": "Python 3"
    }
  },
  "cells": [
    {
      "cell_type": "markdown",
      "metadata": {
        "id": "9OLBNwhVDKL5",
        "colab_type": "text"
      },
      "source": [
        "# Setup\n"
      ]
    },
    {
      "cell_type": "markdown",
      "metadata": {
        "id": "fRk43NZ2XXgG",
        "colab_type": "text"
      },
      "source": [
        "You only need to run this code cell once.\n",
        "<p>\n",
        "  Google allows you to download and use their pre-trained word vectors. These word vectors were trained on the Google News dataset (about 100 billion words). There are vectors for 3 million words and phrases, each 300 dimensions.\n",
        "<p>\n",
        "Using all three million word vectors would be too time consuming. You can change the number on line 1 of the following code cell to change how many word vectors to load and use.\n",
        "  <p>\n",
        "The downloaded word vector file is 1.6 Gb compressed, 3.6 GB when expanded. If you have a fast internet connection this should take about 3 minutes. \n",
        "  <p>\n",
        " Once you download it, if you run it again it will ask you \"GoogleNews-vectors-negative300.bin already exists; do you wish to overwrite (y or n)?\" Enter 'n' in the text box and press the return key to use what you've already downloaded. \n",
        "\n"
      ]
    },
    {
      "cell_type": "code",
      "metadata": {
        "id": "WWEwhZhEZS2L",
        "colab_type": "code",
        "colab": {}
      },
      "source": [
        "max_number_of_vectors = 40000 # 10k - 50k is recommended\n",
        "\n",
        "!pip install -U -q PyDrive\n",
        "from pydrive.auth import GoogleAuth\n",
        "from pydrive.drive import GoogleDrive\n",
        "from google.colab import auth\n",
        "from oauth2client.client import GoogleCredentials\n",
        "\n",
        "# Authenticate and create the PyDrive client.\n",
        "# This only needs to be done once per notebook.\n",
        "auth.authenticate_user()\n",
        "gauth = GoogleAuth()\n",
        "gauth.credentials = GoogleCredentials.get_application_default()\n",
        "drive = GoogleDrive(gauth)\n",
        "\n",
        "file_id = '0B7XkCwpI5KDYNlNUTTlSS21pQmM'\n",
        "downloaded = drive.CreateFile({'id':file_id})\n",
        "downloaded.FetchMetadata(fetch_all=True)\n",
        "downloaded.GetContentFile(downloaded.metadata['title'])\n",
        "print('Vectors download, now unzipping.')\n",
        "!gunzip GoogleNews-vectors-negative300.bin.gz\n",
        "print('Word vectors are almost ready to use.')\n",
        "\n",
        "\n",
        "def print_similarities(word_to_find, num_of_similar_words):\n",
        "  if word_to_find in word_vectors.vocab:\n",
        "    print(\"Word\\tSimilarity Score (1.0 is closest)\")\n",
        "    for w,s in word_vectors.most_similar(positive=[word_to_find], topn=num_of_similar_words):\n",
        "      print(\"{}\\t{:.2f}\".format(w,s))\n",
        "  else:\n",
        "    print('No vector for word:',word_to_find)\n",
        "  print()\n",
        "\n",
        "  \n",
        "def print_similarities_pos_neg(words_positive_list, words_negative_list, num_of_similar_words):\n",
        "  if word_to_find in word_vectors.vocab:\n",
        "    print(\"Word\\tSimilarity Score (1.0 is best)\")\n",
        "    for w,s in word_vectors.most_similar(positive = words_positive_list,negative = words_negative_list, topn = num_of_similar_words):\n",
        "      print(\"{}\\t{:.2f}\".format(w,s))\n",
        "  else:\n",
        "    print('No vector for word:',word_to_find)\n",
        "  print()\n",
        "  \n",
        "  \n",
        "# A is to B as C is to ___\n",
        "def print_analogy_words(word_A, word_B, word_C, num_of_similar_words):\n",
        "  print(\"{} is to {} as {} is to:\".format(word_A, word_B, word_C))\n",
        "  words_negative_list = [word_A]\n",
        "  words_positive_list = [word_B, word_C]\n",
        "  print_similarities_pos_neg(words_positive_list, words_negative_list, num_of_similar_words)\n",
        "\n",
        "\n",
        "from gensim.models.keyedvectors import KeyedVectors\n",
        "word_vectors = KeyedVectors.load_word2vec_format('GoogleNews-vectors-negative300.bin', binary=True, limit=max_number_of_vectors)\n",
        "print('Word vectors are ready to use.')"
      ],
      "execution_count": 0,
      "outputs": []
    },
    {
      "cell_type": "markdown",
      "metadata": {
        "id": "3LOl4t0MciVa",
        "colab_type": "text"
      },
      "source": [
        "# Visualizing large numbers of word vectors"
      ]
    },
    {
      "cell_type": "markdown",
      "metadata": {
        "id": "ZP-JcBsyg85c",
        "colab_type": "text"
      },
      "source": [
        "Visualizing the word vectors in some manner can help us understand our data better. This plot displays words with similar usages/meanings near each other. \n",
        "<p>\n",
        " You can display a desired number of the word vectors by changing the first line in the code cell below. If this number is too high the graph will be too cluttered to interpret easily. Around 200 - 400 should be a useful range. You can also change the next two lines, graph_width and graph_height, to change the size of the graph and possibly show tightly clustered points more clearly though the graph will be bigger than your monitor's area. \n",
        "<p>\n",
        "If you right click on the plot and choose 'show image in new tab', you can probably navigate around the plot more easily."
      ]
    },
    {
      "cell_type": "code",
      "metadata": {
        "id": "j29BEwyHg7Z0",
        "colab_type": "code",
        "colab": {}
      },
      "source": [
        "number_of_vectors_to_show = 300\n",
        "graph_width = 40\n",
        "graph_height = 40\n",
        "\n",
        "first_word = 0\n",
        "last_word = first_word + number_of_vectors_to_show\n",
        "\n",
        "from sklearn.manifold import TSNE\n",
        "from matplotlib import pylab\n",
        "\n",
        "\n",
        "words = [word for word in word_vectors.index2word[first_word:last_word]]\n",
        "embeddings = [word_vectors[word] for word in words]\n",
        "words_embedded = TSNE(n_components=2).fit_transform(embeddings)\n",
        "\n",
        "pylab.figure(figsize=(graph_width, graph_height))\n",
        "for i, label in enumerate(words):\n",
        "  x, y = words_embedded[i, :]\n",
        "  pylab.scatter(x, y)\n",
        "  pylab.annotate(label, xy=(x, y), xytext=(5, 2), textcoords='offset points',\n",
        "                 ha='right', va='bottom', fontsize=15)\n",
        "pylab.show()"
      ],
      "execution_count": 0,
      "outputs": []
    },
    {
      "cell_type": "markdown",
      "metadata": {
        "id": "2eJ3v4IeYFW_",
        "colab_type": "text"
      },
      "source": [
        "# Visualizing specific sets of word vectors"
      ]
    },
    {
      "cell_type": "markdown",
      "metadata": {
        "id": "DPR2B3oTp77-",
        "colab_type": "text"
      },
      "source": [
        "The first line includes a list of words you can change as desired. For each word in this list, a set of the most similar words will be chosen, and all words will be plotted. The words on the plot in red font are on the orignal list on the first line, and the similar words are in black font. "
      ]
    },
    {
      "cell_type": "code",
      "metadata": {
        "id": "lhmuhxx2p8om",
        "colab_type": "code",
        "colab": {}
      },
      "source": [
        "words_of_interest = [\"room\",\n",
        "                \"clean\",\n",
        "                \"pool\",\n",
        "                \"service\",\n",
        "                \"staff\",\n",
        "                \"dirty\"]\n",
        "\n",
        "\n",
        "number_of_similar_words  = 10\n",
        "words_to_plot = []\n",
        "\n",
        "for woi in words_of_interest:\n",
        "  words_to_plot.append(woi) \n",
        "  for w,s in word_vectors.most_similar(positive=[woi], topn=number_of_similar_words):\n",
        "    words_to_plot.append(w) \n",
        "\n",
        "embeddings = [word_vectors[word] for word in words_to_plot]\n",
        "words_embedded = TSNE(n_components=2).fit_transform(embeddings)\n",
        "\n",
        "from sklearn.manifold import TSNE\n",
        "from matplotlib import pylab\n",
        "\n",
        "\n",
        "pylab.figure(figsize=(20, 20))\n",
        "for i, label in enumerate(words_to_plot):\n",
        "  x, y = words_embedded[i, :]\n",
        "  pylab.scatter(x, y)\n",
        "  color = 'black'\n",
        "  if label in words_of_interest:\n",
        "    color = 'red'\n",
        "  pylab.annotate(label, xy=(x, y), xytext=(5, 2), textcoords='offset points',\n",
        "                 ha='right', va='bottom', fontsize=12, color=color)\n",
        "pylab.show()"
      ],
      "execution_count": 0,
      "outputs": []
    },
    {
      "cell_type": "markdown",
      "metadata": {
        "id": "J4pVb7fB37U5",
        "colab_type": "text"
      },
      "source": [
        "# Using word vectors\n"
      ]
    },
    {
      "cell_type": "markdown",
      "metadata": {
        "id": "53bSTEQ052_R",
        "colab_type": "text"
      },
      "source": [
        "## List similar words"
      ]
    },
    {
      "cell_type": "markdown",
      "metadata": {
        "id": "EUBBOllyc1AA",
        "colab_type": "text"
      },
      "source": [
        "This code cell lists words that are similar to a target word.<p> Change the first line below to test different target words. The second line specifies how many similar words to list."
      ]
    },
    {
      "cell_type": "code",
      "metadata": {
        "id": "D8E1w0Dv4TPq",
        "colab_type": "code",
        "colab": {}
      },
      "source": [
        "word_to_find = \"good\"\n",
        "number_of_similar_words = 30\n",
        "\n",
        "print_similarities(word_to_find, number_of_similar_words)"
      ],
      "execution_count": 0,
      "outputs": []
    },
    {
      "cell_type": "markdown",
      "metadata": {
        "id": "WXhtNUE86GUA",
        "colab_type": "text"
      },
      "source": [
        "## List analogies"
      ]
    },
    {
      "cell_type": "markdown",
      "metadata": {
        "id": "4KV2XrLRc8c5",
        "colab_type": "text"
      },
      "source": [
        "Change the three words in the last line of this code cell to test analogies. The order of the words specifies the analogy: \n",
        "\n",
        "\n",
        "> WORD_1 is to WORD_2 as WORD_3 is to: _______\n",
        "\n"
      ]
    },
    {
      "cell_type": "code",
      "metadata": {
        "id": "B76r13IN7Yhn",
        "colab_type": "code",
        "colab": {}
      },
      "source": [
        "# man is to king as woman is to ???\n",
        "number_of_similar_words = 10\n",
        "\n",
        "print_analogy_words('man', 'king', 'woman', number_of_similar_words)\n"
      ],
      "execution_count": 0,
      "outputs": []
    }
  ]
}