{
  "nbformat": 4,
  "nbformat_minor": 0,
  "metadata": {
    "colab": {
      "name": "Class 1 Analyze Reviews and word cloud.ipynb",
      "version": "0.3.2",
      "provenance": [],
      "collapsed_sections": []
    },
    "kernelspec": {
      "name": "python3",
      "display_name": "Python 3"
    }
  },
  "cells": [
    {
      "cell_type": "markdown",
      "metadata": {
        "id": "C-xM6tme2kDj",
        "colab_type": "text"
      },
      "source": [
        "#Read Hotel Reviews File\n"
      ]
    },
    {
      "cell_type": "markdown",
      "metadata": {
        "id": "CjbH1L0zvslL",
        "colab_type": "text"
      },
      "source": [
        "The code cell should display 'Mounted at /content/gdrive' when you run it and log in, as described in Assignment 0."
      ]
    },
    {
      "cell_type": "code",
      "metadata": {
        "id": "qXTDVb2WeGZV",
        "colab_type": "code",
        "colab": {}
      },
      "source": [
        "from google.colab import drive\n",
        "import os\n",
        "drive.mount(\"/content/gdrive\")"
      ],
      "execution_count": 0,
      "outputs": []
    },
    {
      "cell_type": "markdown",
      "metadata": {
        "id": "jF8-en99v5ei",
        "colab_type": "text"
      },
      "source": [
        "Like Assignment 0, this reads the review file stored in your Drive account. It should print 'Reviews read successfully.' when run."
      ]
    },
    {
      "cell_type": "code",
      "metadata": {
        "id": "xv1Hkcc4ruzA",
        "colab_type": "code",
        "colab": {}
      },
      "source": [
        "import pandas as pd\n",
        "\n",
        "if os.path.isfile(\"/content/gdrive/My Drive/Data/new-york-city.csv\"):\n",
        "  with open('/content/gdrive/My Drive/Data/new-york-city.csv', 'r') as f:\n",
        "    reviews = pd.read_csv(f, sep=\"\\t\",  header=None, usecols=[0,1,2,3], quoting=3,\n",
        "                    names = [\"Hotel Name\", \"Date of Review\", \"Review Headline\", \"Review Text\"])\n",
        "    print(\"Reviews read successfully.\")\n",
        "else:\n",
        "  print(\"Data folder does not contain 'new-york-city.csv'.\")"
      ],
      "execution_count": 0,
      "outputs": []
    },
    {
      "cell_type": "markdown",
      "metadata": {
        "id": "45plW0qmwMmB",
        "colab_type": "text"
      },
      "source": [
        "Print the number of reviews in the file."
      ]
    },
    {
      "cell_type": "code",
      "metadata": {
        "id": "kCdxUZ9IxeYL",
        "colab_type": "code",
        "colab": {}
      },
      "source": [
        "number_of_reviews = len(reviews.index)\n",
        "print('There are',number_of_reviews,' reviews in the file.')"
      ],
      "execution_count": 0,
      "outputs": []
    },
    {
      "cell_type": "markdown",
      "metadata": {
        "id": "sP3vPy5t1skQ",
        "colab_type": "text"
      },
      "source": [
        "You can get the unique values in a column using the `unique()` command. The code cell below gets the unique values in the \"Hotel Names\" column, and so gets the distinct hotels that are reviewed."
      ]
    },
    {
      "cell_type": "code",
      "metadata": {
        "id": "OtihK9E31Vjy",
        "colab_type": "code",
        "colab": {}
      },
      "source": [
        "hotel_names = reviews[\"Hotel Name\"].unique() # get a list containing the unique values in the \"Hotel Name\" column\n",
        "number_of_hotels = len(hotel_names) # count how many hotel names there are with the len() command\n",
        "print(number_of_hotels, 'hotels reviewed')"
      ],
      "execution_count": 0,
      "outputs": []
    },
    {
      "cell_type": "markdown",
      "metadata": {
        "id": "KquQiPzXC8wt",
        "colab_type": "text"
      },
      "source": [
        "#Word Cloud"
      ]
    },
    {
      "cell_type": "code",
      "metadata": {
        "id": "cwOMWWM7C7Sg",
        "colab_type": "code",
        "colab": {}
      },
      "source": [
        "from os import path\n",
        "from PIL import Image\n",
        "import numpy as np\n",
        "import matplotlib.pyplot as plt\n",
        "from wordcloud import WordCloud, STOPWORDS"
      ],
      "execution_count": 0,
      "outputs": []
    },
    {
      "cell_type": "markdown",
      "metadata": {
        "id": "vwlwgT6UToZ7",
        "colab_type": "text"
      },
      "source": [
        "# Creating a word cloud from a text file"
      ]
    },
    {
      "cell_type": "markdown",
      "metadata": {
        "id": "t-bKyIXEYhlF",
        "colab_type": "text"
      },
      "source": [
        "This uses all words in all columns of the file. Although most of these words are from the \"Hotel reviews\" column (because that column contains the most text), others words are from the \"Hotel Name\" and \"Review Headline\" columns.\n",
        "<p>\n",
        "  Note that the generate() function by default automatically uses built-in list of stop words. These stop words are removed from consideraton when generating the word cloud."
      ]
    },
    {
      "cell_type": "code",
      "metadata": {
        "id": "Sya0veOnDLhV",
        "colab_type": "code",
        "colab": {}
      },
      "source": [
        "textfile = open('/content/gdrive/My Drive/Data/new-york-city.csv', 'r') \n",
        "print('Reading reviews file...')\n",
        "document = textfile.read() # document is a block of text, should pass it the text of one pandas column \n",
        "wordcloud = WordCloud().generate(document)\n",
        "plt.imshow(wordcloud, interpolation='bilinear')\n",
        "plt.axis(\"off\") \n"
      ],
      "execution_count": 0,
      "outputs": []
    },
    {
      "cell_type": "markdown",
      "metadata": {
        "id": "1EXZnBrBTvY7",
        "colab_type": "text"
      },
      "source": [
        "# Creating a word cloud from a string"
      ]
    },
    {
      "cell_type": "markdown",
      "metadata": {
        "id": "JbQDffH1UAl6",
        "colab_type": "text"
      },
      "source": [
        "The (very long) string is created by combining all text in  the \"Review Text\" column only. "
      ]
    },
    {
      "cell_type": "code",
      "metadata": {
        "id": "QQlG1NhkFhGp",
        "colab_type": "code",
        "colab": {}
      },
      "source": [
        "# create string 'review_text' from a single column\n",
        "review_text = reviews[\"Review Text\"]\n",
        "review_text = review_text.dropna() # skip empty reviews\n",
        "\n",
        "allText = \"\"\n",
        "num = 0\n",
        "for _, val in review_text.iteritems():\n",
        "  num += 1\n",
        "  allText += str(val) + \" \"\n",
        "\n",
        "# generate word cloud from the string\n",
        "wordcloud = WordCloud().generate(allText)\n",
        "plt.imshow(wordcloud, interpolation='bilinear')\n",
        "plt.axis(\"off\") \n"
      ],
      "execution_count": 0,
      "outputs": []
    },
    {
      "cell_type": "markdown",
      "metadata": {
        "id": "gfCqgZY5I9v6",
        "colab_type": "text"
      },
      "source": [
        "# Create a word frequency table "
      ]
    },
    {
      "cell_type": "markdown",
      "metadata": {
        "id": "3UKT0g5uwpdZ",
        "colab_type": "text"
      },
      "source": [
        "Instead of a word cloud, we can use a word frequency table to inspect each word and how often it occurs."
      ]
    },
    {
      "cell_type": "code",
      "metadata": {
        "id": "NXf46qLRTkrv",
        "colab_type": "code",
        "colab": {}
      },
      "source": [
        "def get_word_frequencies_from_column(text):\n",
        "  word_frequencies = Counter()\n",
        "  for _, text in review_text.iteritems():\n",
        "    tokens = text.split()\n",
        "    word_frequencies.update(tokens)\n",
        "\n",
        "  return word_frequencies"
      ],
      "execution_count": 0,
      "outputs": []
    },
    {
      "cell_type": "code",
      "metadata": {
        "id": "aKPk78GpI9Z6",
        "colab_type": "code",
        "colab": {}
      },
      "source": [
        "from collections import Counter\n",
        "\n",
        "review_text = reviews[\"Review Text\"]\n",
        "review_text = review_text.dropna() # skip empty reviews\n",
        "\n",
        "word_frequencies =   get_word_frequencies_from_column(review_text)\n",
        "  \n",
        "print(\"MOST COMMON WORDS:\")\n",
        "print(\"Word\\tFrequency:\")\n",
        "for word, frequency in word_frequencies.most_common(20):\n",
        "  print(\"{}\\t{:,}\".format(word, frequency))\n",
        "  \n",
        "  \n",
        "print()\n",
        "print(\"LEAST COMMON WORDS:\")\n",
        "print(\"Word\\tFrequency:\")\n",
        "for word, frequency in word_frequencies.most_common()[:-11:-1] :\n",
        "  print(\"{}\\t{:,}\".format(word, frequency))  "
      ],
      "execution_count": 0,
      "outputs": []
    },
    {
      "cell_type": "markdown",
      "metadata": {
        "id": "Ej456qtsw6j1",
        "colab_type": "text"
      },
      "source": [
        "We can make a simple bar chart for word frequency, using the word  frequency table created previously."
      ]
    },
    {
      "cell_type": "code",
      "metadata": {
        "id": "L11dDGwCPAQB",
        "colab_type": "code",
        "colab": {}
      },
      "source": [
        "import matplotlib.pyplot as plt\n",
        "\n",
        "top_word_counts = word_frequencies.most_common(10)\n",
        "x,y=list(zip(*top_word_counts))\n",
        "plt.bar(x,y)\n",
        "plt.xlabel(\"Word\")\n",
        "plt.ylabel(\"Frequency\")\n",
        "plt.title(\"CHART TITLE\")"
      ],
      "execution_count": 0,
      "outputs": []
    },
    {
      "cell_type": "markdown",
      "metadata": {
        "id": "8vfd0jREcIp4",
        "colab_type": "text"
      },
      "source": [
        "# Generating a word cloud from a word frequency table "
      ]
    },
    {
      "cell_type": "markdown",
      "metadata": {
        "id": "zXxxVavhxBZF",
        "colab_type": "text"
      },
      "source": [
        "Just as we can create a word cloud from a file of text or from a string, we can create one from a word frequency table."
      ]
    },
    {
      "cell_type": "code",
      "metadata": {
        "id": "qJCX7ZE4Rjtt",
        "colab_type": "code",
        "colab": {}
      },
      "source": [
        "wordcloud = WordCloud(max_words=100)\n",
        "\n",
        "wordcloud.generate_from_frequencies(word_frequencies)\n",
        "plt.imshow(wordcloud, interpolation='bilinear')\n",
        "plt.axis(\"off\") "
      ],
      "execution_count": 0,
      "outputs": []
    },
    {
      "cell_type": "markdown",
      "metadata": {
        "id": "anGBp1YSrE5K",
        "colab_type": "text"
      },
      "source": [
        "# Removing words from the frequency list"
      ]
    },
    {
      "cell_type": "markdown",
      "metadata": {
        "id": "MyetLTfJxaQ4",
        "colab_type": "text"
      },
      "source": [
        "Using the previously-created word frequency table for the reviews, we can remove words we want to ignore."
      ]
    },
    {
      "cell_type": "code",
      "metadata": {
        "id": "UBtdTA4jq-Ro",
        "colab_type": "code",
        "colab": {}
      },
      "source": [
        "for word in list(word_frequencies):\n",
        "    if word in STOPWORDS:\n",
        "        del word_frequencies[word]\n",
        "\n",
        "print(\"Before removal:\")\n",
        "print(\"MOST COMMON WORDS:\")\n",
        "print(\"Word\\tFrequency:\")\n",
        "for word, frequency in word_frequencies.most_common(10):\n",
        "  print(\"{}\\t{:,}\".format(word, frequency))\n",
        "  \n",
        "word_to_remove = \"I\"\n",
        "if word_to_remove in word_frequencies:\n",
        "  del word_frequencies[word_to_remove]\n",
        "\n",
        "word_to_remove = \"The\"\n",
        "if word_to_remove in word_frequencies:\n",
        "  del word_frequencies[word_to_remove]\n",
        "  \n",
        "  \n",
        "    \n",
        "print()\n",
        "\n",
        "print(\"After removal:\")\n",
        "\n",
        "print(\"MOST COMMON WORDS:\")\n",
        "print(\"Word\\tFrequency:\")\n",
        "for word, frequency in word_frequencies.most_common(10):\n",
        "  print(\"{}\\t{:,}\".format(word, frequency))\n"
      ],
      "execution_count": 0,
      "outputs": []
    },
    {
      "cell_type": "markdown",
      "metadata": {
        "id": "bdPdOCfXxoaC",
        "colab_type": "text"
      },
      "source": [
        "#Sherlock Holmes text "
      ]
    },
    {
      "cell_type": "markdown",
      "metadata": {
        "id": "D9xRqa28xHy2",
        "colab_type": "text"
      },
      "source": [
        "These cells read the public domain Sherlock Holmes stories and create a word cloud from that text."
      ]
    },
    {
      "cell_type": "code",
      "metadata": {
        "id": "tDpYtp8dh3Qk",
        "colab_type": "code",
        "colab": {}
      },
      "source": [
        "import urllib.request\n",
        "sherlockHolmesURL = \"http://www.gutenberg.org/cache/epub/1661/pg1661.txt\"\n",
        "localSherlockHolmes = \"holmes.txt\"\n",
        "urllib.request.urlretrieve(sherlockHolmesURL, localSherlockHolmes)\n",
        "textfile = open(localSherlockHolmes, 'r') \n",
        "\n",
        "document = textfile.read() # document is a block of text (a string)\n",
        "wordcloud = WordCloud().generate(document)\n",
        "plt.imshow(wordcloud, interpolation='bilinear')\n",
        "plt.axis(\"off\") "
      ],
      "execution_count": 0,
      "outputs": []
    }
  ]
}